{
 "metadata": {
  "language_info": {
   "codemirror_mode": {
    "name": "ipython",
    "version": 3
   },
   "file_extension": ".py",
   "mimetype": "text/x-python",
   "name": "python",
   "nbconvert_exporter": "python",
   "pygments_lexer": "ipython3",
   "version": "3.8.3-final"
  },
  "orig_nbformat": 2,
  "kernelspec": {
   "name": "python3",
   "display_name": "Python 3"
  }
 },
 "nbformat": 4,
 "nbformat_minor": 2,
 "cells": [
  {
   "cell_type": "code",
   "execution_count": 29,
   "metadata": {},
   "outputs": [],
   "source": [
    "from potterworld.sub2 import quidditch as qd\n",
    "from potterworld.sub2 import spells\n",
    "import unittest"
   ]
  },
  {
   "cell_type": "code",
   "execution_count": 28,
   "metadata": {},
   "outputs": [
    {
     "output_type": "stream",
     "name": "stderr",
     "text": [
      "test_duel (__main__.TestDuel_LearnSpells) ... ok\n",
      "test_learn_spells (__main__.TestDuel_LearnSpells) ... \n",
      "setUpClass\n",
      "\n",
      "setUp\n",
      "tearDown\n",
      "setUp\n",
      " \n",
      "You can learn a special spell that helps you when fighting Lord Voldemort.\n",
      "Wand movements are >>  u : up , d : down , l : left, r : right\n",
      "For example, lrd means left-right-down  &  udr means up-down-right\n",
      "If you prefer to not learn a special spell, enter x at any time to quit learning. A random spell will be used when you fight.\n",
      " \n",
      "ok\n",
      "test_quidditch (__main__.TestQuidditch_Spells) ... random\n",
      "tearDown\n",
      "teardownClass\n",
      "\n",
      "setUpClass\n",
      "\n",
      "setUp\n",
      "\n",
      "Congratulations !!!\n",
      "The chasers for your house (Gryffindor) scored the quaffle by throwing it through the hoops past the opponents keeper.\n",
      "You scored 10 house points!\n",
      "Gryffindor house now has a total of 60 house cup points.\n",
      "\n",
      "Do you want to catch the snitch, which ends the game and awards you 150 bonus house points?\n",
      "\n",
      "Your opponent house seeker caught the snitch and the game is over.\n",
      "\n",
      "\n",
      "Congratulations !!!\n",
      "The chasers for your house (Gryffindor) scored the quaffle by throwing it through the hoops past the opponents keeper.\n",
      "You scored 10 house points!\n",
      "Gryffindor house now has a total of 60 house cup points.\n",
      "\n",
      "Do you want to catch the snitch, which ends the game and awards you 150 bonus house points?\n",
      "\n",
      "Your opponent house seeker caught the snitch and the game is over.\n",
      "\n",
      "\n",
      "Congratulations !!!\n",
      "The chasers for your house (Gryffindor) scored the quaffle by throwing it through the hoops past the opponents keeper.\n",
      "You scored 10 house points!\n",
      "Gryffindor house now has a total of 60 house cup points.\n",
      "\n",
      "Do you want to catch the snitch, which ends the game and awards you 150 bonus house points?\n",
      "\n",
      "Your opponent house seeker caught the snitch and the game is over.\n",
      "\n",
      "\n",
      "Congratulations !!!\n",
      "The chasers for your house (Gryffindor) scored the quaffle by throwing it through the hoops past the opponents keeper.\n",
      "You scored 10 house points!\n",
      "Gryffindor house now has a total of 60 house cup points.\n",
      "\n",
      "Do you want to catch the snitch, which ends the game and awards you 150 bonus house points?\n",
      "ok\n",
      "test_spells (__main__.TestQuidditch_Spells) ... \n",
      "Your opponent house seeker caught the snitch and the game is over.\n",
      "\n",
      "tearDown\n",
      "setUp\n",
      "tearDown\n",
      "teardownClass\n",
      "ok\n",
      "\n",
      "----------------------------------------------------------------------\n",
      "Ran 4 tests in 16.034s\n",
      "\n",
      "OK\n"
     ]
    },
    {
     "output_type": "execute_result",
     "data": {
      "text/plain": [
       "<unittest.main.TestProgram at 0x176f30c4490>"
      ]
     },
     "metadata": {},
     "execution_count": 28
    }
   ],
   "source": [
    "class TestQuidditch_Spells(unittest.TestCase):\n",
    "    @classmethod\n",
    "    def setUpClass(cls):\n",
    "        print(\"\\nsetUpClass\\n\")\n",
    "        cls.spells = spells.spells()\n",
    "\n",
    "    def setUp(self):\n",
    "        print('setUp')\n",
    "        self.rating = 0.9\n",
    "        self.points = 50\n",
    "        self.house = 'Gryffindor'\n",
    "        \n",
    "    def test_quidditch(self):\n",
    "        self.assertIsInstance(qd.quidditch(self.rating, self.points, self.house), int)\n",
    "        self.assertNotEqual(qd.quidditch(self.rating, self.points, self.house), 0)\n",
    "        self.assertNotEqual(qd.quidditch(self.rating, self.points, self.house), self.points)\n",
    "        self.assertEqual(qd.quidditch(self.rating, self.points, self.house)%10, 0)\n",
    "\n",
    "    def test_spells(self):\n",
    "        self.assertEqual(self.spells.spells_dict['Stupefy'], 'Stun your opponent.')\n",
    "        self.assertEqual(self.spells.counter, 1)\n",
    "        self.assertEqual(self.spells.get_all_spells(), self.spells.spells_dict)\n",
    "        self.assertEqual(str(self.spells), 'This is the super Class for magical spells used at Hogwarts school.')\n",
    "\n",
    "    def tearDown(self):\n",
    "        print('tearDown')\n",
    "        self.rating = 0\n",
    "        self.points = 0\n",
    "        self.house = 'None'\n",
    "\n",
    "    @classmethod\n",
    "    def tearDownClass(cls):\n",
    "        print('teardownClass')\n",
    "        cls.spells.counter = 0\n",
    "\n",
    "unittest.main(argv=[''], verbosity=2, exit=False)"
   ]
  },
  {
   "cell_type": "code",
   "execution_count": 24,
   "metadata": {},
   "outputs": [],
   "source": [
    "from potterworld.sub2 import learn_spells\n",
    "from potterworld.sub2 import duel as dl\n",
    "import unittest"
   ]
  },
  {
   "cell_type": "code",
   "execution_count": 26,
   "metadata": {},
   "outputs": [
    {
     "output_type": "stream",
     "name": "stderr",
     "text": [
      "test_duel (__main__.TestDuel_LearnSpells) ... ok\n",
      "test_learn_spells (__main__.TestDuel_LearnSpells) ... \n",
      "setUpClass\n",
      "\n",
      "setUp\n",
      "tearDown\n",
      "setUp\n",
      " \n",
      "You can learn a special spell that helps you when fighting Lord Voldemort.\n",
      "Wand movements are >>  u : up , d : down , l : left, r : right\n",
      "For example, lrd means left-right-down  &  udr means up-down-right\n",
      "If you prefer to not learn a special spell, enter x at any time to quit learning. A random spell will be used when you fight.\n",
      " \n",
      "lrddrl\n",
      "tearDown\n",
      "teardownClass\n",
      "ok\n",
      "\n",
      "----------------------------------------------------------------------\n",
      "Ran 2 tests in 4.021s\n",
      "\n",
      "OK\n"
     ]
    },
    {
     "output_type": "execute_result",
     "data": {
      "text/plain": [
       "<unittest.main.TestProgram at 0x176f2e0b160>"
      ]
     },
     "metadata": {},
     "execution_count": 26
    }
   ],
   "source": [
    "class TestDuel_LearnSpells(unittest.TestCase):\n",
    "    @classmethod\n",
    "    def setUpClass(cls):\n",
    "        print(\"\\nsetUpClass\\n\")\n",
    "        cls.learn_spells = learn_spells.learn_spells()\n",
    "    \n",
    "    def setUp(self):\n",
    "        print('setUp')\n",
    "        self.spell_keys_list = list(self.learn_spells.spells_dict.keys())\n",
    "\n",
    "    def test_learn_spells(self):\n",
    "        self.valid_set = ('l','r','u','d', 'random')\n",
    "        self.assertEqual(self.learn_spells.spells_dict['Reparo'], 'Repair things that are broken.')\n",
    "        self.assertIn(self.learn_spells.cast_a_spell(), self.spell_keys_list)\n",
    "        pattern = self.learn_spells.get_wand_movement_pattern()\n",
    "        print(pattern)\n",
    "        if pattern == 'random':\n",
    "            self.assertEqual(pattern, 'random')\n",
    "        else:\n",
    "            for i in pattern:\n",
    "                self.assertIn(i, self.valid_set)\n",
    "\n",
    "    def test_duel(self):\n",
    "        self.wand_movement_pattern = 'random'\n",
    "        self.assertIn(dl.duel_voldemort(self.wand_movement_pattern)[0], [0,1])\n",
    "        self.assertIn(dl.duel_voldemort(self.wand_movement_pattern)[1], self.spell_keys_list)\n",
    "        self.assertIn(dl.duel_voldemort(self.wand_movement_pattern)[2], self.spell_keys_list)\n",
    "        self.assertEqual(len(dl.duel_voldemort(self.wand_movement_pattern)), 3)\n",
    "\n",
    "\n",
    "    def tearDown(self):\n",
    "        print('tearDown')\n",
    "        self.spell_keys_list = None \n",
    "\n",
    "    @classmethod\n",
    "    def tearDownClass(cls):\n",
    "        print('teardownClass')\n",
    "        cls.learn_spells = None\n",
    "       \n",
    "\n",
    "unittest.main(argv=[''], verbosity=2, exit=False)"
   ]
  },
  {
   "cell_type": "code",
   "execution_count": null,
   "metadata": {},
   "outputs": [],
   "source": []
  }
 ]
}