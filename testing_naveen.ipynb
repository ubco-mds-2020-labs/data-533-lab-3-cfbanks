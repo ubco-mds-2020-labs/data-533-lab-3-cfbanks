{
 "cells": [
  {
   "cell_type": "code",
   "execution_count": 1,
   "metadata": {},
   "outputs": [
    {
     "name": "stdout",
     "output_type": "stream",
     "text": [
      "Thank you for your interest in the potter world!\n",
      "Please start by sending in your application to Hogwarts magic school by following the example below - use your name instead of John\n",
      " \n",
      "me = Wizard(\"John\")\n",
      " \n"
     ]
    }
   ],
   "source": [
    "import unittest\n",
    "from potterworld import * # import potterworld package"
   ]
  },
  {
   "cell_type": "markdown",
   "metadata": {},
   "source": [
    "## Test Hogwarts class"
   ]
  },
  {
   "cell_type": "code",
   "execution_count": 2,
   "metadata": {},
   "outputs": [
    {
     "name": "stderr",
     "output_type": "stream",
     "text": [
      "test_attributes (__main__.mytest) ... ok\n",
      "test_get_wand (__main__.mytest) ... ok\n",
      "test_gringotts (__main__.mytest) ... "
     ]
    },
    {
     "name": "stdout",
     "output_type": "stream",
     "text": [
      "\n",
      "setUpClass\n",
      "\n",
      "#############################################\n",
      "    Welcome to the magic world, test_name   \n",
      "#############################################\n",
      " \n",
      "Go to gringotts bank to convert your Canadian dollars to wizard currencies.\n",
      "Example: my.gringotts(1400)\n",
      " \n",
      "\n",
      "------------------------------------------\n",
      "setUp\n",
      "\n",
      "\n",
      "test attributes\n",
      "\n",
      "\n",
      "tearDown\n",
      "------------------------------------------\n",
      "\n",
      "\n",
      "------------------------------------------\n",
      "setUp\n",
      "\n",
      "\n",
      "test get_wand\n",
      "\n",
      "Your updated currency balance is 0 Golden Galleons, 0 Silver Sickles, and 0 Bronze Knuts.\n",
      " \n",
      "\n",
      "tearDown\n",
      "------------------------------------------\n",
      "\n",
      "\n",
      "------------------------------------------\n",
      "setUp\n",
      "\n",
      "\n",
      "test gringotts\n",
      "\n",
      "Currency exchange completed.\n",
      "You currently have 1 Golden Galleons, 0 Silver Sickles, and 0 Bronze Knuts.\n",
      " \n",
      "Now it's time to buy yourself a wand to learn and perform magic spells!\n",
      "Example: my.get_wand()\n",
      " \n",
      "Currency exchange completed.\n",
      "You currently have 0 Golden Galleons, 1 Silver Sickles, and 0 Bronze Knuts.\n",
      " \n",
      "Now it's time to buy yourself a wand to learn and perform magic spells!\n",
      "Example: my.get_wand()\n",
      " \n",
      "Currency exchange completed.\n",
      "You currently have 0 Golden Galleons, 0 Silver Sickles, and 1 Bronze Knuts.\n",
      " \n",
      "Now it's time to buy yourself a wand to learn and perform magic spells!\n",
      "Example: my.get_wand()\n",
      " \n",
      "Currency exchange completed.\n",
      "You currently have 8 Golden Galleons, 1 Silver Sickles, and 27 Bronze Knuts.\n",
      " \n",
      "Now it's time to buy yourself a wand to learn and perform magic spells!\n",
      "Example: my.get_wand()\n",
      " \n",
      "\n",
      "tearDown\n",
      "------------------------------------------\n",
      "\n",
      "tearDownClass\n",
      "\n"
     ]
    },
    {
     "name": "stderr",
     "output_type": "stream",
     "text": [
      "ok\n",
      "\n",
      "----------------------------------------------------------------------\n",
      "Ran 3 tests in 0.005s\n",
      "\n",
      "OK\n"
     ]
    },
    {
     "data": {
      "text/plain": [
       "<unittest.main.TestProgram at 0x209bb746820>"
      ]
     },
     "execution_count": 2,
     "metadata": {},
     "output_type": "execute_result"
    }
   ],
   "source": [
    "class mytest(unittest.TestCase):\n",
    "    @classmethod\n",
    "    def setUpClass(cls):\n",
    "        print(\"\\nsetUpClass\\n\")\n",
    "        cls.student = Hogwarts(\"test_name\")\n",
    "\n",
    "    def setUp(self):\n",
    "        print(\"\\n------------------------------------------\\nsetUp\\n\")\n",
    "        self.student.name = \"new_test_name\"\n",
    "        \n",
    "    def test_attributes(self):\n",
    "        print(\"\\ntest attributes\\n\")\n",
    "        self.assertEqual(self.student.name, \"new_test_name\")\n",
    "        self.assertEqual(self.student.House, \"no\")\n",
    "        self.assertEqual(self.student.hogwarts_houses_list, ['Gryffindor', 'Ravenclaw', 'Hufflepuff', 'Slytherin'])   \n",
    "        self.assertEqual(self.student.default_quidditch_rating['Gryffindor'], 0.9)\n",
    "        self.assertEqual(self.student.relic_list['Gryffindor'], \"Sword of Gryffindor\")\n",
    "        self.assertEqual(self.student.ghost_list['Gryffindor'], \"Nearly Headless Nick\")\n",
    "        self.assertEqual(self.student.mascot_list['Gryffindor'], \"Lion\")\n",
    "        self.assertEqual(self.student.value_list['Gryffindor'], \"Courage\")        \n",
    "\n",
    "    def test_gringotts(self):\n",
    "        print(\"\\ntest gringotts\\n\")\n",
    "        self.student.gringotts(246.5)\n",
    "        self.assertEqual(self.student.Golden_Galleons, 1)\n",
    "        self.student.gringotts(14.5)\n",
    "        self.assertEqual(self.student.Silver_Sickles, 1)\n",
    "        self.student.gringotts(0.5)\n",
    "        self.assertEqual(self.student.Bronze_Knuts, 1) \n",
    "        self.student.gringotts(2000)\n",
    "        self.assertEqual(self.student.Golden_Galleons, 8)\n",
    "        self.assertEqual(self.student.Silver_Sickles, 1)\n",
    "        self.assertEqual(self.student.Bronze_Knuts, 27)          \n",
    "        \n",
    "    def test_get_wand(self):\n",
    "        print(\"\\ntest get_wand\\n\")\n",
    "        (wood_type, core, length) = self.student.get_wand()\n",
    "        self.assertIn(wood_type, ['Ash', 'Black Walnut', 'Cedar', 'Cherry', 'Elm', 'Hawthorn', 'Poplar', 'Red Oak', 'Sycamore', 'Walnut'])\n",
    "        self.assertIn(core, ['Unicorn Hair', 'Dragon Heart String', 'Pheonix Feather'])\n",
    "        self.assertIn(length, [9,10,11,12,13,14])\n",
    "\n",
    "    def tearDown(self):\n",
    "        print(\"\\ntearDown\\n------------------------------------------\\n\")\n",
    "\n",
    "    @classmethod\n",
    "    def tearDownClass(cls):\n",
    "        print(\"tearDownClass\\n\")\n",
    "\n",
    "unittest.main(argv=[''], verbosity=2, exit=False)"
   ]
  },
  {
   "cell_type": "markdown",
   "metadata": {},
   "source": [
    "## Test Wizard class"
   ]
  },
  {
   "cell_type": "code",
   "execution_count": 3,
   "metadata": {},
   "outputs": [
    {
     "name": "stderr",
     "output_type": "stream",
     "text": [
      "test_get_wand (__main__.mytest) ... ok\n",
      "test_gringotts (__main__.mytest) ... ok\n",
      "test_house (__main__.mytest) ... "
     ]
    },
    {
     "name": "stdout",
     "output_type": "stream",
     "text": [
      "\n",
      "setUpClass\n",
      "\n",
      "##########################################\n",
      "    Welcome to the magic world, Batman   \n",
      "##########################################\n",
      " \n",
      "Go to gringotts bank to convert your Canadian dollars to wizard currencies.\n",
      "Example: my.gringotts(1400)\n",
      " \n",
      "\n",
      "------------------------------------------\n",
      "setUp\n",
      "\n",
      "\n",
      "test get_wand using inheritance\n",
      "\n",
      "Your updated currency balance is 0 Golden Galleons, 0 Silver Sickles, and 0 Bronze Knuts.\n",
      " \n",
      "You now have a magical wand!\n",
      "It's wood type is Cedar, core is made of Dragon Heart String, and it's length is 9 inches.\n",
      " \n",
      "Now it's time to get yourself into one of the four prestigious Houses at Hogwarts using 'sorting hat'\n",
      "Example: my.sorting_hat()\n",
      " \n",
      "\n",
      "tearDown\n",
      "------------------------------------------\n",
      "\n",
      "\n",
      "------------------------------------------\n",
      "setUp\n",
      "\n",
      "\n",
      "test currency exchange in gringotts using inheritance\n",
      "\n",
      "Currency exchange completed.\n",
      "You currently have 1 Golden Galleons, 0 Silver Sickles, and 0 Bronze Knuts.\n",
      " \n",
      "Now it's time to buy yourself a wand to learn and perform magic spells!\n",
      "Example: my.get_wand()\n",
      " \n",
      "Currency exchange completed.\n",
      "You currently have 0 Golden Galleons, 1 Silver Sickles, and 0 Bronze Knuts.\n",
      " \n",
      "Now it's time to buy yourself a wand to learn and perform magic spells!\n",
      "Example: my.get_wand()\n",
      " \n",
      "Currency exchange completed.\n",
      "You currently have 0 Golden Galleons, 0 Silver Sickles, and 1 Bronze Knuts.\n",
      " \n",
      "Now it's time to buy yourself a wand to learn and perform magic spells!\n",
      "Example: my.get_wand()\n",
      " \n",
      "Currency exchange completed.\n",
      "You currently have 8 Golden Galleons, 1 Silver Sickles, and 27 Bronze Knuts.\n",
      " \n",
      "Now it's time to buy yourself a wand to learn and perform magic spells!\n",
      "Example: my.get_wand()\n",
      " \n",
      "\n",
      "tearDown\n",
      "------------------------------------------\n",
      "\n",
      "\n",
      "------------------------------------------\n",
      "setUp\n",
      "\n",
      "\n",
      "test house using sorting_hat()\n",
      "\n",
      "you will now be sorted into a hogwarts house. The sorting hat will now sing its song!\n",
      ".........\n",
      "......\n",
      "...\n",
      "Oh you may not think I'm pretty, But don't judge on what you see, I'll eat myself if you can find A smarter hat than me.\n",
      "You can keep your bowlers black, Your top hats sleek and tall, For I'm the Hogwarts Sorting Hat And I can cap them all.\n",
      "There's nothing hidden in your head The Sorting Hat can't see, So try me on and I will tell you Where you ought to be.\n",
      "You might belong in Gryffindor, Where dwell the brave at heart, Their daring, nerve, and chivalry Set Gryffindors apart;\n",
      "You might belong in Hufflepuff, Where they are just and loyal, Those patient Hufflepuffs are true And unafraid of toil;\n",
      "Or yet in wise old Ravenclaw, if you've a ready mind, Where those of wit and learning, Will always find their kind;\n",
      "Or perhaps in Slytherin You'll make your real friends, Those cunning folks use any means To achieve their ends.\n",
      "So put me on! Don't be afraid! And don't get in a flap! You're in safe hands (though I have none) For I'm a Thinking Cap!\n",
      "...\n",
      "......\n",
      ".........\n",
      " \n",
      "Do you wish to choose the House yourself (or) are you okay with random house assignment ?\n",
      "\n"
     ]
    },
    {
     "name": "stdin",
     "output_type": "stream",
     "text": [
      "Enter y to choose your house, or enter any other character if not interested :  y\n"
     ]
    },
    {
     "name": "stdout",
     "output_type": "stream",
     "text": [
      " \n"
     ]
    },
    {
     "name": "stdin",
     "output_type": "stream",
     "text": [
      "Enter one of these characters ( g r h s ) which represent ['Gryffindor', 'Ravenclaw', 'Hufflepuff', 'Slytherin'] :  g\n"
     ]
    },
    {
     "name": "stderr",
     "output_type": "stream",
     "text": [
      "ok\n",
      "test_learn_spells (__main__.mytest) ... "
     ]
    },
    {
     "name": "stdout",
     "output_type": "stream",
     "text": [
      " \n",
      "Hello wizard new_test_name.\n",
      "You are currently assigned to Gryffindor house in Hogwarts magic school.\n",
      "Your best friend is Ginny Weasley.\n",
      "Your magical wand wood type is Cedar, core is made of Dragon Heart String, and it's length is 9.\n",
      "You currently have 8 Golden Galleons, 1 Silver Sickles, 27 Bronze Knuts.\n",
      "Your house value is Courage, house mascot is Lion, house colors are Maroon and Gold, house ghost is Nearly Headless Nick, house founders relic is Sword of Gryffindor.\n",
      "You have 50 house cup points.\n",
      "Your house quidditch rating is 0.9.\n",
      "You have 100 health points for a fight with Lord Voldemort.\n",
      " \n",
      "You have not learned any spells yet. It's time to go to charms class with Professor Flitwick to learn some magic spells!\n",
      "Example: my.learn_spells()\n",
      " \n",
      "\n",
      "tearDown\n",
      "------------------------------------------\n",
      "\n",
      "\n",
      "------------------------------------------\n",
      "setUp\n",
      "\n",
      "\n",
      "test learn spells\n",
      "\n",
      "Great! These are the spells you learned.\n",
      "\n",
      "Expelliarmus : disarms your enemy by knocking their want out of their hand.\n",
      "Lumos : Use your wand as a light.\n",
      "Nox : Put out the light on your wand.\n",
      "Protego : Shield charm used whild duelling.\n",
      "Accio : Summons whatever you say after the spell to fly into your hand.\n",
      "Stupefy : Stun your opponent.\n",
      "Wingardium Leviosa : Make things levitate\n",
      "Petrificus Totalus : Temporarily bind and paralyze your opponent.\n",
      "Expecto Patronum : Summons your patronus to repel evil dementors that want to suck out your soul. Should assign an animal to the patronus (eg. wolf, stag, bear, etc.).\n",
      "Reparo : Repair things that are broken.\n",
      " \n",
      "You can learn a special spell that helps you when fighting Lord Voldemort.\n",
      "Wand movements are >>  u : up , d : down , l : left, r : right\n",
      "For example, lrd means left-right-down  &  udr means up-down-right\n",
      "If you prefer to not learn a special spell, enter x at any time to quit learning. A random spell will be used when you fight.\n",
      " \n"
     ]
    },
    {
     "name": "stdin",
     "output_type": "stream",
     "text": [
      "Enter your favorite wand movement pattern. (input x if you do not want to learn a special spell):  lurd\n"
     ]
    },
    {
     "name": "stdout",
     "output_type": "stream",
     "text": [
      "\n",
      "Great! The special spell you learned is lurd\n",
      "Remember to use this when you fight Lord Voldemort\n",
      "\n",
      "Now it's time for some fun!\n",
      "\n",
      "Go for a night crawl (or) Play Quidditch (or) fight Lord Voldemort\n",
      "Examples:\n",
      "my.night_crawl()\n",
      "my.play_quidditch()\n",
      "my.fight_voldemort()\n",
      " \n",
      "You can call the 'my.display()' method at any time to see your current attribute information.\n",
      "\n",
      "tearDown\n",
      "------------------------------------------\n",
      "\n",
      "tearDownClass\n",
      "\n"
     ]
    },
    {
     "name": "stderr",
     "output_type": "stream",
     "text": [
      "ok\n",
      "\n",
      "----------------------------------------------------------------------\n",
      "Ran 4 tests in 19.407s\n",
      "\n",
      "OK\n"
     ]
    },
    {
     "data": {
      "text/plain": [
       "<unittest.main.TestProgram at 0x209bb778a00>"
      ]
     },
     "execution_count": 3,
     "metadata": {},
     "output_type": "execute_result"
    }
   ],
   "source": [
    "class mytest(unittest.TestCase):\n",
    "    @classmethod\n",
    "    def setUpClass(cls):\n",
    "        print(\"\\nsetUpClass\\n\")\n",
    "        cls.my = Wizard(\"Batman\")\n",
    "\n",
    "    def setUp(self):\n",
    "        print(\"\\n------------------------------------------\\nsetUp\\n\")\n",
    "        self.my.name = \"new_test_name\"\n",
    "\n",
    "    def test_gringotts(self):\n",
    "        print(\"\\ntest currency exchange in gringotts using inheritance\\n\")\n",
    "        self.my.gringotts(246.5)\n",
    "        self.assertEqual(self.my.Golden_Galleons, 1)\n",
    "        self.my.gringotts(14.5)\n",
    "        self.assertEqual(self.my.Silver_Sickles, 1)\n",
    "        self.my.gringotts(0.5)\n",
    "        self.assertEqual(self.my.Bronze_Knuts, 1)         \n",
    "        self.my.gringotts(2000)\n",
    "        self.assertEqual(self.my.Golden_Galleons, 8)\n",
    "        self.assertEqual(self.my.Silver_Sickles, 1)\n",
    "        self.assertEqual(self.my.Bronze_Knuts, 27)\n",
    "\n",
    "    def test_get_wand(self):\n",
    "        print(\"\\ntest get_wand using inheritance\\n\")\n",
    "        self.assertEqual(self.my.name, \"new_test_name\")\n",
    "        self.my.get_wand()\n",
    "        self.assertIn(self.my.wand_wood_type, ['Ash', 'Black Walnut', 'Cedar', 'Cherry', 'Elm', 'Hawthorn', 'Poplar', 'Red Oak', 'Sycamore', 'Walnut'])\n",
    "        self.assertIn(self.my.wand_core, ['Unicorn Hair', 'Dragon Heart String', 'Pheonix Feather'])\n",
    "        self.assertIn(self.my.wand_length, [9,10,11,12,13,14])        \n",
    "        \n",
    "    def test_house(self):\n",
    "        print(\"\\ntest house using sorting_hat()\\n\")\n",
    "        self.my.sorting_hat()\n",
    "        self.assertIn(self.my.House, ['Gryffindor', 'Ravenclaw', 'Hufflepuff', 'Slytherin'])\n",
    "        self.assertIn(self.my.house_quidditch_rating, [0.9, 0.7, 0.6])\n",
    "        self.assertIn(self.my.house_mascot, ['Lion', 'Eagle', 'Badger', 'Serpent'])\n",
    "        self.assertIn(self.my.house_ghost, ['Nearly Headless Nick', 'The Grey Lady', 'The Fat Friar', 'The Bloody Baron'])\n",
    "        \n",
    "    def test_learn_spells(self):\n",
    "        print(\"\\ntest learn spells\\n\")\n",
    "        self.my.learn_spells()\n",
    "        self.assertEqual(self.my.learn_spells_flag, 1)\n",
    "        wand_movement_pattern = self.my.wand_movement_pattern\n",
    "        pattern_check = False\n",
    "        if wand_movement_pattern == 'random':\n",
    "            pattern_check = True\n",
    "        else:\n",
    "            pattern_check = True\n",
    "            for char in set(list(wand_movement_pattern)):\n",
    "                if char not in ['l','r','u','d']:\n",
    "                    pattern_check = False\n",
    "        self.assertEqual(pattern_check, True)\n",
    "\n",
    "    def tearDown(self):\n",
    "        print(\"\\ntearDown\\n------------------------------------------\\n\")\n",
    "\n",
    "    @classmethod\n",
    "    def tearDownClass(cls):\n",
    "        print(\"tearDownClass\\n\")\n",
    "\n",
    "unittest.main(argv=[''], verbosity=2, exit=False)"
   ]
  }
 ],
 "metadata": {
  "kernelspec": {
   "display_name": "Python 3",
   "language": "python",
   "name": "python3"
  },
  "language_info": {
   "codemirror_mode": {
    "name": "ipython",
    "version": 3
   },
   "file_extension": ".py",
   "mimetype": "text/x-python",
   "name": "python",
   "nbconvert_exporter": "python",
   "pygments_lexer": "ipython3",
   "version": "3.8.3"
  }
 },
 "nbformat": 4,
 "nbformat_minor": 4
}
